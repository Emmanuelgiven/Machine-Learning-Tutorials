{
  "nbformat": 4,
  "nbformat_minor": 0,
  "metadata": {
    "colab": {
      "name": "Cervical Cancer Risk Factors.ipynb",
      "provenance": [],
      "authorship_tag": "ABX9TyNoynaLO3HK5/RvFWP3/Wa2",
      "include_colab_link": true
    },
    "kernelspec": {
      "name": "python3",
      "display_name": "Python 3"
    },
    "language_info": {
      "name": "python"
    }
  },
  "cells": [
    {
      "cell_type": "markdown",
      "metadata": {
        "id": "view-in-github",
        "colab_type": "text"
      },
      "source": [
        "<a href=\"https://colab.research.google.com/github/vappiah/Machine-Learning-Tutorials/blob/main/Cervical_Cancer_Risk_Factors.ipynb\" target=\"_parent\"><img src=\"https://colab.research.google.com/assets/colab-badge.svg\" alt=\"Open In Colab\"/></a>"
      ]
    },
    {
      "cell_type": "markdown",
      "metadata": {
        "id": "Ecdd9V9llq0G"
      },
      "source": [
        "The notebook contains Python codes for predicting cervical cancer. The dataset contains indicators and risk factors for predicting whether a woman will get cervical cancer. The features include demographic data (such as age), lifestyle, and medical history. The data can be downloaded from the UCI Machine Learning repository(https://archive.ics.uci.edu/ml/datasets/Cervical+cancer+%28Risk+Factors%29)\n",
        "\n",
        "The subset of data features used in the book’s examples are:\n",
        "\n",
        "    - Age in years\n",
        "    - Number of sexual partners\n",
        "    - First sexual intercourse (age in years)\n",
        "    - Number of pregnancies\n",
        "    - Smoking yes or no\n",
        "     -Smoking (in years)\n",
        "    - Hormonal contraceptives yes or no\n",
        "    - Hormonal contraceptives (in years)\n",
        "    - Intrauterine device yes or no (IUD)\n",
        "    - Number of years with an intrauterine device (IUD)\n",
        "    - Has patient ever had a sexually transmitted disease (STD) yes or no\n",
        "    - Number of STD diagnoses\n",
        "    - Time since first STD diagnosis\n",
        "    - Time since last STD diagnosis\n",
        "    - The biopsy results “Healthy” or “Cancer”. Target outcome.\n",
        "\n",
        "Note: Biopsy serves as the gold standard for diagnosing cervical cancer. "
      ]
    },
    {
      "cell_type": "code",
      "metadata": {
        "id": "gGNRHWiNmixZ"
      },
      "source": [
        "#import libraries\n",
        "import numpy as np\n",
        "import pandas as pd\n",
        "import matplotlib.pyplot as plt\n",
        "import seaborn as sns\n"
      ],
      "execution_count": 3,
      "outputs": []
    },
    {
      "cell_type": "code",
      "metadata": {
        "id": "LGyNfX6nlf8U"
      },
      "source": [
        "#get data \n",
        "dataframe=pd.read_csv('https://archive.ics.uci.edu/ml/machine-learning-databases/00383/risk_factors_cervical_cancer.csv')"
      ],
      "execution_count": 4,
      "outputs": []
    },
    {
      "cell_type": "code",
      "metadata": {
        "id": "NhC3jB50nNPq"
      },
      "source": [
        "#data exploration"
      ],
      "execution_count": null,
      "outputs": []
    },
    {
      "cell_type": "code",
      "metadata": {
        "colab": {
          "base_uri": "https://localhost:8080/"
        },
        "id": "8iHF5uqxnNb0",
        "outputId": "3b769649-805d-48c0-e969-0f0688afc958"
      },
      "source": [
        "#get the sample size and number of columns (features + outcomes)\n",
        "dataframe.shape"
      ],
      "execution_count": 5,
      "outputs": [
        {
          "output_type": "execute_result",
          "data": {
            "text/plain": [
              "(858, 36)"
            ]
          },
          "metadata": {},
          "execution_count": 5
        }
      ]
    },
    {
      "cell_type": "code",
      "metadata": {
        "id": "NNHp_oX4nNeQ"
      },
      "source": [
        ""
      ],
      "execution_count": null,
      "outputs": []
    },
    {
      "cell_type": "code",
      "metadata": {
        "id": "JdctE7G5nNhh"
      },
      "source": [
        ""
      ],
      "execution_count": null,
      "outputs": []
    },
    {
      "cell_type": "code",
      "metadata": {
        "id": "d0t-zw1-nNj6"
      },
      "source": [
        ""
      ],
      "execution_count": null,
      "outputs": []
    },
    {
      "cell_type": "code",
      "metadata": {
        "id": "T5-g1u4xnNmV"
      },
      "source": [
        ""
      ],
      "execution_count": null,
      "outputs": []
    },
    {
      "cell_type": "code",
      "metadata": {
        "id": "oZpJJqqnnNo5"
      },
      "source": [
        ""
      ],
      "execution_count": null,
      "outputs": []
    },
    {
      "cell_type": "code",
      "metadata": {
        "id": "ShjrxHiCnNrv"
      },
      "source": [
        ""
      ],
      "execution_count": null,
      "outputs": []
    },
    {
      "cell_type": "code",
      "metadata": {
        "id": "V5MsLW5VnNuI"
      },
      "source": [
        ""
      ],
      "execution_count": null,
      "outputs": []
    },
    {
      "cell_type": "code",
      "metadata": {
        "id": "f_o2010wnNwK"
      },
      "source": [
        ""
      ],
      "execution_count": null,
      "outputs": []
    },
    {
      "cell_type": "code",
      "metadata": {
        "id": "oOKbPUMjnNyh"
      },
      "source": [
        ""
      ],
      "execution_count": null,
      "outputs": []
    },
    {
      "cell_type": "code",
      "metadata": {
        "id": "N8Cqu8aTnN05"
      },
      "source": [
        ""
      ],
      "execution_count": null,
      "outputs": []
    },
    {
      "cell_type": "code",
      "metadata": {
        "id": "gKzcegEBnN30"
      },
      "source": [
        ""
      ],
      "execution_count": null,
      "outputs": []
    }
  ]
}