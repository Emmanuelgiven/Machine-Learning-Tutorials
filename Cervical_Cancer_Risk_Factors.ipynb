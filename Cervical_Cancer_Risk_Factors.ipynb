{
  "nbformat": 4,
  "nbformat_minor": 0,
  "metadata": {
    "colab": {
      "name": "Cervical Cancer Risk Factors.ipynb",
      "provenance": [],
      "authorship_tag": "ABX9TyP66BIi+nKr+7aL1c6Kw8B7",
      "include_colab_link": true
    },
    "kernelspec": {
      "name": "python3",
      "display_name": "Python 3"
    },
    "language_info": {
      "name": "python"
    }
  },
  "cells": [
    {
      "cell_type": "markdown",
      "metadata": {
        "id": "view-in-github",
        "colab_type": "text"
      },
      "source": [
        "<a href=\"https://colab.research.google.com/github/vappiah/Machine-Learning-Tutorials/blob/main/Cervical_Cancer_Risk_Factors.ipynb\" target=\"_parent\"><img src=\"https://colab.research.google.com/assets/colab-badge.svg\" alt=\"Open In Colab\"/></a>"
      ]
    },
    {
      "cell_type": "markdown",
      "metadata": {
        "id": "Ecdd9V9llq0G"
      },
      "source": [
        "The notebook contains Python codes for predicting cervical cancer. The dataset contains indicators and risk factors for predicting whether a woman will get cervical cancer. The features include demographic data (such as age), lifestyle, and medical history. The data can be downloaded from the UCI Machine Learning repository(https://archive.ics.uci.edu/ml/datasets/Cervical+cancer+%28Risk+Factors%29)\n",
        "\n",
        "The subset of data features used in the book’s examples are:\n",
        "\n",
        "    - Age in years\n",
        "    - Number of sexual partners\n",
        "    - First sexual intercourse (age in years)\n",
        "    - Number of pregnancies\n",
        "    - Smoking yes or no\n",
        "     -Smoking (in years)\n",
        "    - Hormonal contraceptives yes or no\n",
        "    - Hormonal contraceptives (in years)\n",
        "    - Intrauterine device yes or no (IUD)\n",
        "    - Number of years with an intrauterine device (IUD)\n",
        "    - Has patient ever had a sexually transmitted disease (STD) yes or no\n",
        "    - Number of STD diagnoses\n",
        "    - Time since first STD diagnosis\n",
        "    - Time since last STD diagnosis\n",
        "    - The biopsy results “Healthy” or “Cancer”. Target outcome.\n",
        "\n",
        "Note: Biopsy serves as the gold standard for diagnosing cervical cancer. "
      ]
    },
    {
      "cell_type": "code",
      "metadata": {
        "id": "gGNRHWiNmixZ"
      },
      "source": [
        "#import libraries\n",
        "import numpy as np\n",
        "import pandas as pd\n",
        "import matplotlib.pyplot as plt\n",
        "import seaborn as pd\n"
      ],
      "execution_count": null,
      "outputs": []
    },
    {
      "cell_type": "code",
      "metadata": {
        "id": "LGyNfX6nlf8U"
      },
      "source": [
        "https://archive.ics.uci.edu/ml/machine-learning-databases/00383/risk_factors_cervical_cancer.csv"
      ],
      "execution_count": null,
      "outputs": []
    },
    {
      "cell_type": "markdown",
      "metadata": {
        "id": "G8XapynxloU1"
      },
      "source": [
        ""
      ]
    },
    {
      "cell_type": "markdown",
      "metadata": {
        "id": "J0jbF_PFlgPN"
      },
      "source": [
        ""
      ]
    }
  ]
}