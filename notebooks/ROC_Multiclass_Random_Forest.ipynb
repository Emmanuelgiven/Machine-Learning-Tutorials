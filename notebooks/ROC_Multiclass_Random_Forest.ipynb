{
 "cells": [
  {
   "cell_type": "markdown",
   "id": "modern-auction",
   "metadata": {},
   "source": [
    "# ROC Curve  for multiclass classification \n",
    "**Classifier**: Random Forest"
   ]
  },
  {
   "cell_type": "markdown",
   "id": "ee8f5467",
   "metadata": {},
   "source": [
    "The dataset used is from this paper: \n",
    "Morang’a, C.M., Amenga–Etego, L., Bah, S.Y. et al. Machine learning approaches classify clinical malaria outcomes based on haematological parameters. BMC Med 18, 375 (2020). https://doi.org/10.1186/s12916-020-01823-3"
   ]
  },
  {
   "cell_type": "markdown",
   "id": "controlled-saudi",
   "metadata": {},
   "source": [
    "### Import libraries for the analysis "
   ]
  },
  {
   "cell_type": "code",
   "execution_count": null,
   "id": "overhead-prefix",
   "metadata": {},
   "outputs": [],
   "source": [
    "import pandas as pd        #read,explore & clean data\n",
    "import numpy as np         # data manipulation\n",
    "import matplotlib.pyplot as plt   # data visualization\n",
    "import seaborn as sns             # data visualization"
   ]
  },
  {
   "cell_type": "code",
   "execution_count": null,
   "id": "1de6f112",
   "metadata": {},
   "outputs": [],
   "source": []
  },
  {
   "cell_type": "markdown",
   "id": "comparable-transcription",
   "metadata": {},
   "source": [
    "### Read the data"
   ]
  },
  {
   "cell_type": "code",
   "execution_count": null,
   "id": "flexible-monthly",
   "metadata": {},
   "outputs": [],
   "source": [
    "#set path to the data file.\n",
    "data_file='https://raw.githubusercontent.com/vappiah/Machine-Learning-Tutorials/main/data/malaria_clin_data.csv'"
   ]
  },
  {
   "cell_type": "code",
   "execution_count": null,
   "id": "photographic-worry",
   "metadata": {},
   "outputs": [],
   "source": [
    "#read the data with pandas\n",
    "dataframe=pd.read_csv(data_file)"
   ]
  },
  {
   "cell_type": "markdown",
   "id": "coordinate-scotland",
   "metadata": {},
   "source": [
    "### Explore and clean"
   ]
  },
  {
   "cell_type": "code",
   "execution_count": null,
   "id": "3e5b41ad",
   "metadata": {},
   "outputs": [],
   "source": [
    "#find the number of rows and columns in the dataframe\n",
    "dataframe.shape"
   ]
  },
  {
   "cell_type": "code",
   "execution_count": null,
   "id": "c06f4ccf",
   "metadata": {
    "scrolled": true
   },
   "outputs": [],
   "source": [
    "#get the first n rows in the dataframe\n",
    "dataframe.head(n=5)"
   ]
  },
  {
   "cell_type": "code",
   "execution_count": null,
   "id": "cee131ee",
   "metadata": {},
   "outputs": [],
   "source": [
    "# list the column names\n",
    "dataframe.columns"
   ]
  },
  {
   "cell_type": "code",
   "execution_count": null,
   "id": "57622b34",
   "metadata": {
    "scrolled": true
   },
   "outputs": [],
   "source": [
    "#obtain some information about the data \n",
    "#i.e. columns,datatypes,missing values,etc\n",
    "dataframe.info()"
   ]
  },
  {
   "cell_type": "code",
   "execution_count": null,
   "id": "0b6a589c",
   "metadata": {},
   "outputs": [],
   "source": [
    "#we are interested in the columns : 'Clinical_diagnosis' up to 'RBC_dist_width_Percent'\n",
    "#meaning we will subset the data from column 16 - the last column\n",
    "subset=dataframe.iloc[:,16:]"
   ]
  },
  {
   "cell_type": "code",
   "execution_count": null,
   "id": "fc1a0186",
   "metadata": {},
   "outputs": [],
   "source": [
    "subset.shape"
   ]
  },
  {
   "cell_type": "code",
   "execution_count": null,
   "id": "38ba54da",
   "metadata": {
    "scrolled": true
   },
   "outputs": [],
   "source": [
    "subset.info()"
   ]
  },
  {
   "cell_type": "code",
   "execution_count": null,
   "id": "23afa181",
   "metadata": {},
   "outputs": [],
   "source": [
    "#Check the mising data. We are interested in how many missing data are present in each column\n",
    "subset.isnull().sum()"
   ]
  },
  {
   "cell_type": "code",
   "execution_count": null,
   "id": "7325d532",
   "metadata": {},
   "outputs": [],
   "source": [
    "# handling missing values\n",
    "# drop / remove all rows with missing values\n",
    "subset.dropna(inplace=True)"
   ]
  },
  {
   "cell_type": "code",
   "execution_count": null,
   "id": "fcab3308",
   "metadata": {},
   "outputs": [],
   "source": [
    "subset.shape"
   ]
  },
  {
   "cell_type": "code",
   "execution_count": null,
   "id": "f3eb1260",
   "metadata": {},
   "outputs": [],
   "source": [
    "subset.columns"
   ]
  },
  {
   "cell_type": "code",
   "execution_count": null,
   "id": "c3a3b740",
   "metadata": {},
   "outputs": [],
   "source": [
    "#Let us get the different malaria outcomes. \n",
    "#The outcomes will be our labels/classes in the data"
   ]
  },
  {
   "cell_type": "code",
   "execution_count": null,
   "id": "d365e4eb",
   "metadata": {},
   "outputs": [],
   "source": [
    "subset['Clinical_Diagnosis'].unique()"
   ]
  },
  {
   "cell_type": "code",
   "execution_count": null,
   "id": "f3270bab",
   "metadata": {},
   "outputs": [],
   "source": [
    "labels=pd.Categorical(subset['Clinical_Diagnosis'])\n",
    "labels"
   ]
  },
  {
   "cell_type": "code",
   "execution_count": null,
   "id": "479b921e",
   "metadata": {
    "scrolled": true
   },
   "outputs": [],
   "source": [
    "subset.head()"
   ]
  },
  {
   "cell_type": "code",
   "execution_count": null,
   "id": "653fee51",
   "metadata": {},
   "outputs": [],
   "source": [
    "#class distribution\n",
    "subset['Clinical_Diagnosis'].value_counts()"
   ]
  },
  {
   "cell_type": "code",
   "execution_count": null,
   "id": "5340a0bf",
   "metadata": {
    "scrolled": true
   },
   "outputs": [],
   "source": [
    "# plot a bar chat to display the class distribution\n",
    "subset['Clinical_Diagnosis'].value_counts().plot.bar()"
   ]
  },
  {
   "cell_type": "code",
   "execution_count": null,
   "id": "143dc7d4",
   "metadata": {
    "scrolled": true
   },
   "outputs": [],
   "source": [
    "#descriptive statistics on the data\n",
    "subset.iloc[:,1:].describe().transpose()"
   ]
  },
  {
   "cell_type": "code",
   "execution_count": null,
   "id": "99d94d9f",
   "metadata": {
    "scrolled": true
   },
   "outputs": [],
   "source": [
    "#check the correlation for the features\n",
    "subset.corr()"
   ]
  },
  {
   "cell_type": "code",
   "execution_count": null,
   "id": "cd99db30",
   "metadata": {},
   "outputs": [],
   "source": [
    "#lets visualize the correlation matrix using seaborn\n",
    "sns.heatmap(subset.corr(),cmap='coolwarm')"
   ]
  },
  {
   "cell_type": "code",
   "execution_count": null,
   "id": "illegal-saint",
   "metadata": {},
   "outputs": [],
   "source": []
  },
  {
   "cell_type": "markdown",
   "id": "nuclear-attraction",
   "metadata": {},
   "source": [
    "### Data Preprocessing"
   ]
  },
  {
   "cell_type": "code",
   "execution_count": null,
   "id": "8903eab7",
   "metadata": {},
   "outputs": [],
   "source": [
    "# separate the labels/classes from the features/measurement\n",
    "X=subset.iloc[:,1:]\n",
    "y=subset.iloc[:,0]"
   ]
  },
  {
   "cell_type": "code",
   "execution_count": null,
   "id": "838cceb8",
   "metadata": {
    "scrolled": true
   },
   "outputs": [],
   "source": [
    "X.shape"
   ]
  },
  {
   "cell_type": "code",
   "execution_count": null,
   "id": "e962186c",
   "metadata": {
    "scrolled": false
   },
   "outputs": [],
   "source": [
    "y.shape"
   ]
  },
  {
   "cell_type": "markdown",
   "id": "42c1604e",
   "metadata": {},
   "source": [
    "\\\n",
    "**Encode labels** \\\n",
    "This is required by scikit learn when dealing with categorical data."
   ]
  },
  {
   "cell_type": "code",
   "execution_count": null,
   "id": "33eb6953",
   "metadata": {},
   "outputs": [],
   "source": [
    "#Lets encode target labels (y) with values between 0 and n_classes-1.\n",
    "#We will use the LabelEncoder to do this. \n",
    "from sklearn.preprocessing import LabelEncoder\n",
    "label_encoder=LabelEncoder()\n",
    "label_encoder.fit(y)\n",
    "y=label_encoder.transform(y)\n",
    "classes=label_encoder.classes_"
   ]
  },
  {
   "cell_type": "code",
   "execution_count": null,
   "id": "389d61ef",
   "metadata": {},
   "outputs": [],
   "source": [
    "np.unique(y)"
   ]
  },
  {
   "cell_type": "markdown",
   "id": "liquid-cooperative",
   "metadata": {},
   "source": [
    "### Split data into train and test sets"
   ]
  },
  {
   "cell_type": "code",
   "execution_count": null,
   "id": "c396c54d",
   "metadata": {},
   "outputs": [],
   "source": [
    "# train test ratio 80:20"
   ]
  },
  {
   "cell_type": "code",
   "execution_count": null,
   "id": "a443e25e",
   "metadata": {},
   "outputs": [],
   "source": [
    "from sklearn.model_selection import train_test_split\n",
    "X_train,X_test,y_train,y_test=train_test_split(X,y,test_size=0.2)"
   ]
  },
  {
   "cell_type": "markdown",
   "id": "adapted-navigator",
   "metadata": {},
   "source": [
    "### Normalize the data"
   ]
  },
  {
   "cell_type": "code",
   "execution_count": null,
   "id": "b82dde0a",
   "metadata": {},
   "outputs": [],
   "source": [
    "# scale data between 0 and 1"
   ]
  },
  {
   "cell_type": "code",
   "execution_count": null,
   "id": "a05b72bf",
   "metadata": {},
   "outputs": [],
   "source": [
    "from sklearn.preprocessing import MinMaxScaler\n",
    "min_max_scaler=MinMaxScaler()\n",
    "X_train_norm=min_max_scaler.fit_transform(X_train)\n",
    "X_test_norm=min_max_scaler.fit_transform(X_test)"
   ]
  },
  {
   "cell_type": "code",
   "execution_count": null,
   "id": "11089084",
   "metadata": {},
   "outputs": [],
   "source": [
    "X_train_norm[0,0]"
   ]
  },
  {
   "cell_type": "code",
   "execution_count": null,
   "id": "ce8d121d",
   "metadata": {
    "scrolled": true
   },
   "outputs": [],
   "source": [
    "X_train.iloc[0,0]"
   ]
  },
  {
   "cell_type": "markdown",
   "id": "3f9dd811",
   "metadata": {},
   "source": [
    "### Classification"
   ]
  },
  {
   "cell_type": "code",
   "execution_count": null,
   "id": "f76c8475",
   "metadata": {},
   "outputs": [],
   "source": [
    "from sklearn.datasets import make_classification\n",
    "from sklearn.multiclass import OneVsRestClassifier\n",
    "from sklearn.ensemble import RandomForestClassifier\n",
    "from sklearn.svm import LinearSVC\n",
    "from sklearn.metrics import roc_curve"
   ]
  },
  {
   "cell_type": "markdown",
   "id": "egyptian-mileage",
   "metadata": {},
   "source": [
    "#### Training Phase\n",
    "This will be done by parsing the training set to a classifier or classifiers\n",
    "Because we are dealing with more 3 classes, this becomes a multiclass classification problem.\n",
    "We therefore us the One-vs-the-rest strategy.\\\n",
    "This strategy involves fitting one classifier per class. For each classifier, the class is fitted against all the other classes. \n",
    "Here, we use the Random Forest Classifier"
   ]
  },
  {
   "cell_type": "code",
   "execution_count": null,
   "id": "f6e1acd2",
   "metadata": {},
   "outputs": [],
   "source": [
    "#create a random forest classifier\n",
    "\n",
    "rf = OneVsRestClassifier(RandomForestClassifier())\n",
    "rf.fit(X_train_norm, y_train)\n",
    "pred = rf.predict(X_test_norm)\n",
    "pred_prob = rf.predict_proba(X_test_norm)"
   ]
  },
  {
   "cell_type": "markdown",
   "id": "fcc47a6c",
   "metadata": {},
   "source": [
    "#### Plot the ROC Curve"
   ]
  },
  {
   "cell_type": "code",
   "execution_count": null,
   "id": "5721daaa",
   "metadata": {},
   "outputs": [],
   "source": [
    "# roc curve for classes\n",
    "fpr = {}\n",
    "tpr = {}\n",
    "thresh ={}\n",
    "\n",
    "n_class = 3\n",
    "\n",
    "for i in range(n_class):    \n",
    "    fpr[i], tpr[i], thresh[i] = roc_curve(y_test, pred_prob[:,i], pos_label=i)\n",
    "    \n",
    "# plotting    \n",
    "plt.plot(fpr[0], tpr[0], linestyle='--',color='brown', label='Class 0 vs Rest')\n",
    "plt.plot(fpr[1], tpr[1], linestyle='--',color='green', label='Class 1 vs Rest')\n",
    "plt.plot(fpr[2], tpr[2], linestyle='--',color='yellow', label='Class 2 vs Rest')\n",
    "plt.plot([0,1],[0,1],'b--')\n",
    "plt.xlim([0,1])\n",
    "plt.ylim([0,1.05])\n",
    "plt.title('Multiclass ROC curve')\n",
    "plt.xlabel('False Positive Rate')\n",
    "plt.ylabel('True Positive rate')\n",
    "plt.legend(loc='best')\n",
    "plt.show()"
   ]
  },
  {
   "cell_type": "code",
   "execution_count": null,
   "id": "e2f9c9c2",
   "metadata": {},
   "outputs": [],
   "source": []
  }
 ],
 "metadata": {
  "kernelspec": {
   "display_name": "Python 3 (ipykernel)",
   "language": "python",
   "name": "python3"
  },
  "language_info": {
   "codemirror_mode": {
    "name": "ipython",
    "version": 3
   },
   "file_extension": ".py",
   "mimetype": "text/x-python",
   "name": "python",
   "nbconvert_exporter": "python",
   "pygments_lexer": "ipython3",
   "version": "3.8.10"
  }
 },
 "nbformat": 4,
 "nbformat_minor": 5
}
