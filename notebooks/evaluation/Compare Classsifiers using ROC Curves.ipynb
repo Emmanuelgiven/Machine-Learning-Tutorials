{
 "cells": [
  {
   "cell_type": "markdown",
   "id": "modern-auction",
   "metadata": {},
   "source": [
    "## Compare  the Performance of Classifiers using ROC Curves\n",
    "**(Binary Classification**)\n"
   ]
  },
  {
   "cell_type": "markdown",
   "id": "78e7a719",
   "metadata": {},
   "source": [
    "**Required Python Libraries**\\\n",
    "  -pandas\\\n",
    "  -numpy\\\n",
    "  -scikit-learn\\\n",
    "  -matplotlib"
   ]
  },
  {
   "cell_type": "markdown",
   "id": "controlled-saudi",
   "metadata": {},
   "source": [
    "### Import libraries for the analysis "
   ]
  },
  {
   "cell_type": "code",
   "execution_count": null,
   "id": "d547c07d",
   "metadata": {},
   "outputs": [],
   "source": [
    "#data exploration and preprocessing\n",
    "import pandas as pd        \n",
    "import numpy as np \n",
    "from sklearn.model_selection import train_test_split\n",
    "from sklearn.preprocessing import MinMaxScaler\n",
    "\n",
    "#data visualization\n",
    "import matplotlib.pyplot as plt\n",
    "\n",
    "#classifiers\n",
    "from sklearn.svm import LinearSVC\n",
    "from sklearn.ensemble import RandomForestClassifier\n",
    "from sklearn.neighbors import KNeighborsClassifier\n",
    "\n",
    "#model evaluation\n",
    "from sklearn.metrics import roc_curve,auc\n",
    "\n"
   ]
  },
  {
   "cell_type": "markdown",
   "id": "comparable-transcription",
   "metadata": {},
   "source": [
    "### Read the data"
   ]
  },
  {
   "cell_type": "code",
   "execution_count": null,
   "id": "flexible-monthly",
   "metadata": {},
   "outputs": [],
   "source": [
    "#set path to the data file.\n",
    "data_file='https://raw.githubusercontent.com/vappiah/Machine-Learning-Tutorials/main/data/diabetes-pima.csv'"
   ]
  },
  {
   "cell_type": "code",
   "execution_count": null,
   "id": "photographic-worry",
   "metadata": {},
   "outputs": [],
   "source": [
    "#read the data with pandas\n",
    "dataframe=pd.read_csv(data_file)  "
   ]
  },
  {
   "cell_type": "markdown",
   "id": "nuclear-attraction",
   "metadata": {},
   "source": [
    "### Data Preprocessing"
   ]
  },
  {
   "cell_type": "code",
   "execution_count": null,
   "id": "8903eab7",
   "metadata": {},
   "outputs": [],
   "source": [
    "# separate the labels/classes from the features/measurement\n",
    "X=dataframe.iloc[:,:-1]\n",
    "y=dataframe.iloc[:,-1]"
   ]
  },
  {
   "cell_type": "markdown",
   "id": "liquid-cooperative",
   "metadata": {},
   "source": [
    "### Split data into train and test sets"
   ]
  },
  {
   "cell_type": "code",
   "execution_count": null,
   "id": "c396c54d",
   "metadata": {},
   "outputs": [],
   "source": [
    "# train test ratio 80:20"
   ]
  },
  {
   "cell_type": "code",
   "execution_count": null,
   "id": "a443e25e",
   "metadata": {},
   "outputs": [],
   "source": [
    "from sklearn.model_selection import train_test_split\n",
    "Xtrain,Xtest,ytrain,ytest=train_test_split(X,y,test_size=0.2)"
   ]
  },
  {
   "cell_type": "markdown",
   "id": "adapted-navigator",
   "metadata": {},
   "source": [
    "### Normalization of the data"
   ]
  },
  {
   "cell_type": "code",
   "execution_count": null,
   "id": "b82dde0a",
   "metadata": {},
   "outputs": [],
   "source": [
    "# scale data between 0 and 1"
   ]
  },
  {
   "cell_type": "code",
   "execution_count": null,
   "id": "a05b72bf",
   "metadata": {},
   "outputs": [],
   "source": [
    "min_max_scaler=MinMaxScaler()\n",
    "Xtrain=min_max_scaler.fit_transform(Xtrain)\n",
    "Xtest=min_max_scaler.fit_transform(Xtest)"
   ]
  },
  {
   "cell_type": "markdown",
   "id": "egyptian-mileage",
   "metadata": {},
   "source": [
    "### Training Phase"
   ]
  },
  {
   "cell_type": "code",
   "execution_count": null,
   "id": "5721daaa",
   "metadata": {},
   "outputs": [],
   "source": [
    "#random forest classifier\n",
    "rf=RandomForestClassifier(max_features=0.2)\n",
    "rf.fit(Xtrain,ytrain)"
   ]
  },
  {
   "cell_type": "code",
   "execution_count": null,
   "id": "35aede42",
   "metadata": {
    "scrolled": true
   },
   "outputs": [],
   "source": [
    "#support vector machine classifier\n",
    "svm=LinearSVC()\n",
    "svm.fit(Xtrain,ytrain)"
   ]
  },
  {
   "cell_type": "code",
   "execution_count": null,
   "id": "3fea8a8b",
   "metadata": {},
   "outputs": [],
   "source": [
    "#K-nearest Neighbor classifier\n",
    "knn=KNeighborsClassifier()\n",
    "knn.fit(Xtrain,ytrain)"
   ]
  },
  {
   "cell_type": "markdown",
   "id": "b9418ac6",
   "metadata": {},
   "source": [
    "### Plot ROC Curve for each classifier"
   ]
  },
  {
   "cell_type": "code",
   "execution_count": null,
   "id": "f68fdebf",
   "metadata": {},
   "outputs": [],
   "source": [
    "\n",
    "def plot_roc(xtest,ytest,models):\n",
    "    \n",
    "    #models object should be a dictionary comprising of name of model and the model object\n",
    "    for name,model in models.items():\n",
    "\n",
    "        if hasattr(model,'decision_function'):\n",
    "            probs=model.decision_function(xtest) \n",
    "        elif hasattr(model,'predict_proba'):\n",
    "            probs=model.predict_proba(xtest) [:,1]\n",
    "        fpr,tpr,threshold=roc_curve(ytest,probs)\n",
    "        roc_auc=auc(fpr,tpr)\n",
    "        print('ROC AUC=%0.2f'%roc_auc)\n",
    "        plt.plot(fpr,tpr,label='%s (AUC=%0.2f)'%(name,roc_auc))\n",
    "        \n",
    "    plt.legend(loc='lower right')\n",
    "    plt.plot([0,1],[0,1],'b--')\n",
    "    plt.xlim([0,1])\n",
    "    plt.ylim([0,1.05])\n",
    "    plt.xlabel('False Positive Rate')\n",
    "    plt.ylabel('True Positive Rate')\n",
    "    plt.show()\n"
   ]
  },
  {
   "cell_type": "code",
   "execution_count": null,
   "id": "0db0117e",
   "metadata": {},
   "outputs": [],
   "source": [
    "models={'rf':rf,'svm':svm,'knn':knn}\n",
    "plot_roc(Xtest,ytest,models)"
   ]
  }
 ],
 "metadata": {
  "kernelspec": {
   "display_name": "Python 3 (ipykernel)",
   "language": "python",
   "name": "python3"
  },
  "language_info": {
   "codemirror_mode": {
    "name": "ipython",
    "version": 3
   },
   "file_extension": ".py",
   "mimetype": "text/x-python",
   "name": "python",
   "nbconvert_exporter": "python",
   "pygments_lexer": "ipython3",
   "version": "3.8.10"
  }
 },
 "nbformat": 4,
 "nbformat_minor": 5
}
