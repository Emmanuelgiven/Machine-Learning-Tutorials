{
 "cells": [
  {
   "cell_type": "markdown",
   "id": "modern-auction",
   "metadata": {},
   "source": [
    "# ROC Curves for Artificial Neural Networks\n",
    "**(Binary Classification**)\n"
   ]
  },
  {
   "cell_type": "markdown",
   "id": "6cedbe4a",
   "metadata": {},
   "source": [
    "## Required Libraries\n",
    " - numpy\n",
    " - matplotlib\n",
    " - pandas\n",
    " - tensorflow\n",
    " - keras\n",
    " - scikit-learn"
   ]
  },
  {
   "cell_type": "markdown",
   "id": "controlled-saudi",
   "metadata": {},
   "source": [
    "### Import libraries for the analysis "
   ]
  },
  {
   "cell_type": "code",
   "execution_count": null,
   "id": "overhead-prefix",
   "metadata": {},
   "outputs": [],
   "source": [
    "import pandas as pd        \n",
    "import numpy as np   \n",
    "\n",
    "import matplotlib.pyplot as plt\n",
    "\n",
    "from sklearn.metrics import roc_curve,auc\n",
    "from sklearn.metrics import auc\n",
    "\n",
    "from sklearn.model_selection import train_test_split\n",
    "\n",
    "from tensorflow import keras\n",
    "from keras.models import Sequential\n",
    "from keras.layers import Dense\n"
   ]
  },
  {
   "cell_type": "markdown",
   "id": "comparable-transcription",
   "metadata": {},
   "source": [
    "### Read the data"
   ]
  },
  {
   "cell_type": "code",
   "execution_count": null,
   "id": "flexible-monthly",
   "metadata": {},
   "outputs": [],
   "source": [
    "file_url='https://raw.githubusercontent.com/vappiah/Machine-Learning-Tutorials/main/data/diabetes-pima.csv'\n",
    "\n",
    "#read the data with pandas\n",
    "dataframe=pd.read_csv(file_url)"
   ]
  },
  {
   "cell_type": "markdown",
   "id": "nuclear-attraction",
   "metadata": {},
   "source": [
    "### Data Preprocessing"
   ]
  },
  {
   "cell_type": "code",
   "execution_count": null,
   "id": "8903eab7",
   "metadata": {},
   "outputs": [],
   "source": [
    "# separate the labels/classes from the features/measurement\n",
    "X=dataframe.iloc[:,:-1]\n",
    "y=dataframe.iloc[:,-1]\n"
   ]
  },
  {
   "cell_type": "markdown",
   "id": "adapted-navigator",
   "metadata": {},
   "source": [
    "### Data normalization"
   ]
  },
  {
   "cell_type": "code",
   "execution_count": null,
   "id": "b82dde0a",
   "metadata": {},
   "outputs": [],
   "source": [
    "# scale data between 0 and 1"
   ]
  },
  {
   "cell_type": "code",
   "execution_count": null,
   "id": "a05b72bf",
   "metadata": {},
   "outputs": [],
   "source": [
    "min_max_scaler=MinMaxScaler()\n",
    "X=min_max_scaler.fit_transform(X)"
   ]
  },
  {
   "cell_type": "markdown",
   "id": "liquid-cooperative",
   "metadata": {},
   "source": [
    "### Data splitting"
   ]
  },
  {
   "cell_type": "markdown",
   "id": "c92931c6",
   "metadata": {},
   "source": [
    "Data is split into three: training, validation and test sets\\\n",
    "-training set is used for training.\\\n",
    "-validation set is used for evaluating the model while tuning.\\\n",
    "-test set is used to test the model after training and tuning has been completed."
   ]
  },
  {
   "cell_type": "code",
   "execution_count": null,
   "id": "a443e25e",
   "metadata": {},
   "outputs": [],
   "source": [
    "#split the data into training and test set.\n",
    "X_train,X_test,y_train,y_test=train_test_split(X,y,test_size=0.2)\n",
    "\n",
    "#split the training set into two (training and validation).\n",
    "X_train, X_val, y_train, y_val = train_test_split(X_train,y_train,test_size=0.2)"
   ]
  },
  {
   "cell_type": "markdown",
   "id": "egyptian-mileage",
   "metadata": {},
   "source": [
    "### Build the Neural Network model"
   ]
  },
  {
   "cell_type": "code",
   "execution_count": null,
   "id": "f6e1acd2",
   "metadata": {
    "scrolled": true
   },
   "outputs": [],
   "source": [
    "#define model\n",
    "model = Sequential()\n",
    "\n",
    "#hidden layer 1\n",
    "model.add(Dense(10, input_dim=X_train.shape[1], activation='relu'))\n",
    "\n",
    "#hidden layer 2\n",
    "model.add(Dense(8, activation='relu'))\n",
    "\n",
    "#output layer\n",
    "model.add(Dense(1, activation='sigmoid'))\n",
    "\n",
    "#define optimizer and learning rate. We will use Adam optimizer\n",
    "#opt_adam = keras.optimizers.Adam(learning_rate=0.001)\n",
    "\n",
    "#fit the model with the defined optimizer\n",
    "model.compile(loss='binary_crossentropy', optimizer='adam', metrics=['binary_accuracy'])\n",
    "\n",
    "# fit model\n",
    "model.fit(X_train, y_train, validation_data=(X_val, y_val), batch_size=10,epochs=100, verbose=1)\n"
   ]
  },
  {
   "cell_type": "code",
   "execution_count": null,
   "id": "c5132aa6",
   "metadata": {},
   "outputs": [],
   "source": [
    "#get the probabilities\n",
    "y_pred_keras = model.predict(X_test).ravel()\n",
    "\n",
    "#compute false positive rate and true positive rate\n",
    "fpr_keras, tpr_keras, thresholds_keras = roc_curve(y_test, y_pred_keras)\n",
    "\n",
    "#compute AUC\n",
    "auc_keras = auc(fpr_keras, tpr_keras)"
   ]
  },
  {
   "cell_type": "markdown",
   "id": "111bec0a",
   "metadata": {},
   "source": [
    "### Plot the ROC Curve"
   ]
  },
  {
   "cell_type": "code",
   "execution_count": null,
   "id": "e6ee82b3",
   "metadata": {},
   "outputs": [],
   "source": [
    "plt.plot(fpr_keras,tpr_keras,label='Neural Network AUC=%0.2f'%auc_keras,color='darkorange')\n",
    "plt.legend(loc='lower right')\n",
    "plt.plot([0,1],[0,1],'b--')\n",
    "plt.xlim([0,1])\n",
    "plt.ylim([0,1.05])\n",
    "plt.xlabel('False Positive Rate')\n",
    "plt.ylabel('True Positive Rate')\n",
    "plt.show()\n"
   ]
  }
 ],
 "metadata": {
  "kernelspec": {
   "display_name": "Python 3 (ipykernel)",
   "language": "python",
   "name": "python3"
  },
  "language_info": {
   "codemirror_mode": {
    "name": "ipython",
    "version": 3
   },
   "file_extension": ".py",
   "mimetype": "text/x-python",
   "name": "python",
   "nbconvert_exporter": "python",
   "pygments_lexer": "ipython3",
   "version": "3.8.10"
  }
 },
 "nbformat": 4,
 "nbformat_minor": 5
}
