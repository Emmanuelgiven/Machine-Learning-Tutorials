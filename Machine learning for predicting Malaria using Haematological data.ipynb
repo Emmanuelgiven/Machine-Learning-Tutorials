{
  "nbformat": 4,
  "nbformat_minor": 5,
  "metadata": {
    "kernelspec": {
      "display_name": "Python 3 (ipykernel)",
      "language": "python",
      "name": "python3"
    },
    "language_info": {
      "codemirror_mode": {
        "name": "ipython",
        "version": 3
      },
      "file_extension": ".py",
      "mimetype": "text/x-python",
      "name": "python",
      "nbconvert_exporter": "python",
      "pygments_lexer": "ipython3",
      "version": "3.8.10"
    },
    "colab": {
      "name": "Machine learning for predicting Malaria using Haematological data.ipynb",
      "provenance": []
    }
  },
  "cells": [
    {
      "cell_type": "markdown",
      "metadata": {
        "id": "modern-auction"
      },
      "source": [
        "# Disease Prediction using Machine Learning"
      ],
      "id": "modern-auction"
    },
    {
      "cell_type": "markdown",
      "metadata": {
        "id": "resident-american"
      },
      "source": [
        "- Disease:       Malaria\n",
        "- Data:          Haematological data\n",
        "- Classifier:    Random Forest\n",
        "- Python Libraries\n",
        "    - numpy\n",
        "    - scipy\n",
        "    - pandas\n",
        "    - matplotlib\n",
        "    - seaborn\n",
        "    - scikit-learn"
      ],
      "id": "resident-american"
    },
    {
      "cell_type": "markdown",
      "metadata": {
        "id": "ee8f5467"
      },
      "source": [
        "This tutorial is based on this paper: \n",
        "Morang’a, C.M., Amenga–Etego, L., Bah, S.Y. et al. Machine learning approaches classify clinical malaria outcomes based on haematological parameters. BMC Med 18, 375 (2020). https://doi.org/10.1186/s12916-020-01823-3"
      ],
      "id": "ee8f5467"
    },
    {
      "cell_type": "markdown",
      "metadata": {
        "id": "c987e736"
      },
      "source": [
        "\n",
        "<a href=\"https://youtu.be/2zZYtboqZdY\">Explanation of the code can be found here</a>"
      ],
      "id": "c987e736"
    },
    {
      "cell_type": "markdown",
      "metadata": {
        "id": "8b05a438"
      },
      "source": [
        "<a href=\"https://static-content.springer.com/esm/art%3A10.1186%2Fs12916-020-01823-3/MediaObjects/12916_2020_1823_MOESM2_ESM.xlsx\"> Download Dataset"
      ],
      "id": "8b05a438"
    },
    {
      "cell_type": "markdown",
      "metadata": {
        "id": "controlled-saudi"
      },
      "source": [
        "### Import libraries for the analysis "
      ],
      "id": "controlled-saudi"
    },
    {
      "cell_type": "code",
      "metadata": {
        "id": "overhead-prefix"
      },
      "source": [
        "import pandas as pd        #read,explore & clean data\n",
        "import numpy as np         # data manipulation\n",
        "import matplotlib.pyplot as plt   # data visualization\n",
        "import seaborn as sns             # data visualization"
      ],
      "id": "overhead-prefix",
      "execution_count": 2,
      "outputs": []
    },
    {
      "cell_type": "markdown",
      "metadata": {
        "id": "comparable-transcription"
      },
      "source": [
        "### Read the data"
      ],
      "id": "comparable-transcription"
    },
    {
      "cell_type": "code",
      "metadata": {
        "id": "photographic-worry"
      },
      "source": [
        "#read the data with pandas\n",
        "dataframe=pd.read_excel(\"https://static-content.springer.com/esm/art%3A10.1186%2Fs12916-020-01823-3/MediaObjects/12916_2020_1823_MOESM2_ESM.xlsx\",sheet_name=\"Table S2 Hematological Raw Data\")"
      ],
      "id": "photographic-worry",
      "execution_count": 3,
      "outputs": []
    },
    {
      "cell_type": "code",
      "metadata": {
        "id": "ae8e2d7f"
      },
      "source": [
        ""
      ],
      "id": "ae8e2d7f",
      "execution_count": null,
      "outputs": []
    },
    {
      "cell_type": "markdown",
      "metadata": {
        "id": "coordinate-scotland"
      },
      "source": [
        "### Explore, clean and preprocess the data "
      ],
      "id": "coordinate-scotland"
    },
    {
      "cell_type": "code",
      "metadata": {
        "id": "3e5b41ad"
      },
      "source": [
        "#find the number of rows and columns in the dataframe\n",
        "dataframe.shape"
      ],
      "id": "3e5b41ad",
      "execution_count": null,
      "outputs": []
    },
    {
      "cell_type": "code",
      "metadata": {
        "scrolled": true,
        "id": "c06f4ccf"
      },
      "source": [
        "#get the first n rows in the dataframe\n",
        "dataframe.head(n=5)"
      ],
      "id": "c06f4ccf",
      "execution_count": null,
      "outputs": []
    },
    {
      "cell_type": "code",
      "metadata": {
        "id": "cee131ee"
      },
      "source": [
        "# list the column names\n",
        "dataframe.columns"
      ],
      "id": "cee131ee",
      "execution_count": null,
      "outputs": []
    },
    {
      "cell_type": "code",
      "metadata": {
        "id": "0b2fc6ea"
      },
      "source": [
        ""
      ],
      "id": "0b2fc6ea",
      "execution_count": null,
      "outputs": []
    },
    {
      "cell_type": "code",
      "metadata": {
        "scrolled": true,
        "id": "57622b34"
      },
      "source": [
        "#obtain some information about the data \n",
        "#i.e. columns,datatypes,missing values,etc\n",
        "dataframe.info()"
      ],
      "id": "57622b34",
      "execution_count": null,
      "outputs": []
    },
    {
      "cell_type": "code",
      "metadata": {
        "id": "0b6a589c"
      },
      "source": [
        "#we are interested in the columns : 'Clinical_diagnosis' up to 'RBC_dist_width_Percent'\n",
        "#meaning we will subset the data from column 16 - the last column\n",
        "subset=dataframe.iloc[:,16:]"
      ],
      "id": "0b6a589c",
      "execution_count": null,
      "outputs": []
    },
    {
      "cell_type": "code",
      "metadata": {
        "id": "fc1a0186"
      },
      "source": [
        "subset.shape"
      ],
      "id": "fc1a0186",
      "execution_count": null,
      "outputs": []
    },
    {
      "cell_type": "code",
      "metadata": {
        "scrolled": true,
        "id": "38ba54da"
      },
      "source": [
        "subset.info()"
      ],
      "id": "38ba54da",
      "execution_count": null,
      "outputs": []
    },
    {
      "cell_type": "code",
      "metadata": {
        "id": "23afa181"
      },
      "source": [
        "#Check the mising data. We are interested in how many missing data are present in each column\n",
        "subset.isnull().sum()"
      ],
      "id": "23afa181",
      "execution_count": null,
      "outputs": []
    },
    {
      "cell_type": "code",
      "metadata": {
        "id": "7325d532"
      },
      "source": [
        "# handling missing values\n",
        "# drop / remove all rows with missing values\n",
        "subset.dropna(inplace=True)"
      ],
      "id": "7325d532",
      "execution_count": null,
      "outputs": []
    },
    {
      "cell_type": "code",
      "metadata": {
        "id": "fcab3308"
      },
      "source": [
        "subset.shape"
      ],
      "id": "fcab3308",
      "execution_count": null,
      "outputs": []
    },
    {
      "cell_type": "code",
      "metadata": {
        "id": "f3eb1260"
      },
      "source": [
        "subset.columns"
      ],
      "id": "f3eb1260",
      "execution_count": null,
      "outputs": []
    },
    {
      "cell_type": "code",
      "metadata": {
        "id": "c3a3b740"
      },
      "source": [
        "#Let us get the different malaria outcomes. \n",
        "#The outcomes will be our labels/classes in the data"
      ],
      "id": "c3a3b740",
      "execution_count": null,
      "outputs": []
    },
    {
      "cell_type": "code",
      "metadata": {
        "id": "d365e4eb"
      },
      "source": [
        "subset['Clinical_Diagnosis'].unique()"
      ],
      "id": "d365e4eb",
      "execution_count": null,
      "outputs": []
    },
    {
      "cell_type": "code",
      "metadata": {
        "id": "f3270bab"
      },
      "source": [
        "labels=pd.Categorical(subset['Clinical_Diagnosis'])\n",
        "labels"
      ],
      "id": "f3270bab",
      "execution_count": null,
      "outputs": []
    },
    {
      "cell_type": "code",
      "metadata": {
        "scrolled": true,
        "id": "479b921e"
      },
      "source": [
        "subset.head()"
      ],
      "id": "479b921e",
      "execution_count": null,
      "outputs": []
    },
    {
      "cell_type": "code",
      "metadata": {
        "id": "653fee51"
      },
      "source": [
        "#class distribution\n",
        "subset['Clinical_Diagnosis'].value_counts()"
      ],
      "id": "653fee51",
      "execution_count": null,
      "outputs": []
    },
    {
      "cell_type": "code",
      "metadata": {
        "scrolled": true,
        "id": "5340a0bf"
      },
      "source": [
        "# plot a bar chat to display the class distribution\n",
        "subset['Clinical_Diagnosis'].value_counts().plot.bar()"
      ],
      "id": "5340a0bf",
      "execution_count": null,
      "outputs": []
    },
    {
      "cell_type": "code",
      "metadata": {
        "scrolled": true,
        "id": "143dc7d4"
      },
      "source": [
        "#descriptive statistics on the data\n",
        "subset.iloc[:,1:].describe().transpose()"
      ],
      "id": "143dc7d4",
      "execution_count": null,
      "outputs": []
    },
    {
      "cell_type": "code",
      "metadata": {
        "scrolled": true,
        "id": "99d94d9f"
      },
      "source": [
        "#check the correlation for the features\n",
        "subset.corr()"
      ],
      "id": "99d94d9f",
      "execution_count": null,
      "outputs": []
    },
    {
      "cell_type": "code",
      "metadata": {
        "id": "cd99db30"
      },
      "source": [
        "#lets visualize the correlation matrix using seaborn\n",
        "sns.heatmap(subset.corr(),cmap='coolwarm')"
      ],
      "id": "cd99db30",
      "execution_count": null,
      "outputs": []
    },
    {
      "cell_type": "code",
      "metadata": {
        "id": "illegal-saint"
      },
      "source": [
        ""
      ],
      "id": "illegal-saint",
      "execution_count": null,
      "outputs": []
    },
    {
      "cell_type": "markdown",
      "metadata": {
        "id": "nuclear-attraction"
      },
      "source": [
        "## Data Preprocessing"
      ],
      "id": "nuclear-attraction"
    },
    {
      "cell_type": "code",
      "metadata": {
        "id": "8903eab7"
      },
      "source": [
        "# separate the labels/classes from the features/measurement\n",
        "X=subset.iloc[:,1:]\n",
        "y=subset.iloc[:,0]"
      ],
      "id": "8903eab7",
      "execution_count": null,
      "outputs": []
    },
    {
      "cell_type": "code",
      "metadata": {
        "id": "838cceb8"
      },
      "source": [
        "X.shape"
      ],
      "id": "838cceb8",
      "execution_count": null,
      "outputs": []
    },
    {
      "cell_type": "code",
      "metadata": {
        "scrolled": false,
        "id": "e962186c"
      },
      "source": [
        "y.shape"
      ],
      "id": "e962186c",
      "execution_count": null,
      "outputs": []
    },
    {
      "cell_type": "code",
      "metadata": {
        "id": "6333dbc2"
      },
      "source": [
        "#encode the labels. \n",
        "#This is required by scikit learn when performing supervised learning"
      ],
      "id": "6333dbc2",
      "execution_count": null,
      "outputs": []
    },
    {
      "cell_type": "code",
      "metadata": {
        "id": "33eb6953"
      },
      "source": [
        "from sklearn.preprocessing import LabelEncoder\n",
        "label_encoder=LabelEncoder()\n",
        "label_encoder.fit(y)\n",
        "y_encoded=label_encoder.transform(y)"
      ],
      "id": "33eb6953",
      "execution_count": null,
      "outputs": []
    },
    {
      "cell_type": "code",
      "metadata": {
        "id": "389d61ef"
      },
      "source": [
        "y_encoded[0:5]"
      ],
      "id": "389d61ef",
      "execution_count": null,
      "outputs": []
    },
    {
      "cell_type": "code",
      "metadata": {
        "id": "7c7ca301"
      },
      "source": [
        "y[0:5]"
      ],
      "id": "7c7ca301",
      "execution_count": null,
      "outputs": []
    },
    {
      "cell_type": "code",
      "metadata": {
        "scrolled": false,
        "id": "3cbd6b91"
      },
      "source": [
        "classes=label_encoder.classes_\n",
        "classes"
      ],
      "id": "3cbd6b91",
      "execution_count": null,
      "outputs": []
    },
    {
      "cell_type": "markdown",
      "metadata": {
        "id": "liquid-cooperative"
      },
      "source": [
        "## Split data into train and test sets"
      ],
      "id": "liquid-cooperative"
    },
    {
      "cell_type": "code",
      "metadata": {
        "id": "c396c54d"
      },
      "source": [
        "# train test ratio 80:20"
      ],
      "id": "c396c54d",
      "execution_count": null,
      "outputs": []
    },
    {
      "cell_type": "code",
      "metadata": {
        "id": "a443e25e"
      },
      "source": [
        "from sklearn.model_selection import train_test_split\n",
        "X_train,X_test,y_train,y_test=train_test_split(X,y_encoded,test_size=0.2)"
      ],
      "id": "a443e25e",
      "execution_count": null,
      "outputs": []
    },
    {
      "cell_type": "code",
      "metadata": {
        "id": "d4e73145"
      },
      "source": [
        "X_train.shape"
      ],
      "id": "d4e73145",
      "execution_count": null,
      "outputs": []
    },
    {
      "cell_type": "code",
      "metadata": {
        "id": "bc4f8441"
      },
      "source": [
        "y_train.shape"
      ],
      "id": "bc4f8441",
      "execution_count": null,
      "outputs": []
    },
    {
      "cell_type": "code",
      "metadata": {
        "id": "b4eb1371"
      },
      "source": [
        "X_test.shape"
      ],
      "id": "b4eb1371",
      "execution_count": null,
      "outputs": []
    },
    {
      "cell_type": "code",
      "metadata": {
        "id": "70e9dd39"
      },
      "source": [
        "y_test.shape"
      ],
      "id": "70e9dd39",
      "execution_count": null,
      "outputs": []
    },
    {
      "cell_type": "markdown",
      "metadata": {
        "id": "adapted-navigator"
      },
      "source": [
        "### Standardization of the data"
      ],
      "id": "adapted-navigator"
    },
    {
      "cell_type": "code",
      "metadata": {
        "id": "b82dde0a"
      },
      "source": [
        "# scale data between 0 and 1"
      ],
      "id": "b82dde0a",
      "execution_count": null,
      "outputs": []
    },
    {
      "cell_type": "code",
      "metadata": {
        "id": "a05b72bf"
      },
      "source": [
        "from sklearn.preprocessing import MinMaxScaler\n",
        "min_max_scaler=MinMaxScaler()\n",
        "X_train_scaled=min_max_scaler.fit_transform(X_train)\n",
        "X_test_scaled=min_max_scaler.fit_transform(X_test)"
      ],
      "id": "a05b72bf",
      "execution_count": null,
      "outputs": []
    },
    {
      "cell_type": "code",
      "metadata": {
        "id": "11089084"
      },
      "source": [
        "X_train_scaled[0,0]"
      ],
      "id": "11089084",
      "execution_count": null,
      "outputs": []
    },
    {
      "cell_type": "code",
      "metadata": {
        "scrolled": true,
        "id": "ce8d121d"
      },
      "source": [
        "X_train.iloc[0,0]"
      ],
      "id": "ce8d121d",
      "execution_count": null,
      "outputs": []
    },
    {
      "cell_type": "code",
      "metadata": {
        "id": "b7ded5b6"
      },
      "source": [
        ""
      ],
      "id": "b7ded5b6",
      "execution_count": null,
      "outputs": []
    },
    {
      "cell_type": "code",
      "metadata": {
        "id": "f76c8475"
      },
      "source": [
        ""
      ],
      "id": "f76c8475",
      "execution_count": null,
      "outputs": []
    },
    {
      "cell_type": "markdown",
      "metadata": {
        "id": "egyptian-mileage"
      },
      "source": [
        "### Training Phase"
      ],
      "id": "egyptian-mileage"
    },
    {
      "cell_type": "code",
      "metadata": {
        "id": "f6e1acd2"
      },
      "source": [
        "#create random forest classifier"
      ],
      "id": "f6e1acd2",
      "execution_count": null,
      "outputs": []
    },
    {
      "cell_type": "code",
      "metadata": {
        "id": "5721daaa"
      },
      "source": [
        "from sklearn.ensemble import RandomForestClassifier\n",
        "clf=RandomForestClassifier()\n",
        "clf.fit(X_train_scaled,y_train)"
      ],
      "id": "5721daaa",
      "execution_count": null,
      "outputs": []
    },
    {
      "cell_type": "markdown",
      "metadata": {
        "id": "amazing-controversy"
      },
      "source": [
        "### Testing phase"
      ],
      "id": "amazing-controversy"
    },
    {
      "cell_type": "code",
      "metadata": {
        "id": "8f01fe10"
      },
      "source": [
        "# model prediction on the test set"
      ],
      "id": "8f01fe10",
      "execution_count": null,
      "outputs": []
    },
    {
      "cell_type": "code",
      "metadata": {
        "id": "8eb88961"
      },
      "source": [
        "y_pred=clf.predict(X_test_scaled)"
      ],
      "id": "8eb88961",
      "execution_count": null,
      "outputs": []
    },
    {
      "cell_type": "code",
      "metadata": {
        "id": "ea7a60b6"
      },
      "source": [
        "y_pred[0:3]"
      ],
      "id": "ea7a60b6",
      "execution_count": null,
      "outputs": []
    },
    {
      "cell_type": "code",
      "metadata": {
        "id": "7ec958bc"
      },
      "source": [
        "y_test[0:3]"
      ],
      "id": "7ec958bc",
      "execution_count": null,
      "outputs": []
    },
    {
      "cell_type": "code",
      "metadata": {
        "id": "94e67b1f"
      },
      "source": [
        "classes"
      ],
      "id": "94e67b1f",
      "execution_count": null,
      "outputs": []
    },
    {
      "cell_type": "markdown",
      "metadata": {
        "id": "viral-touch"
      },
      "source": [
        "### Evaluating the model\n",
        "\n"
      ],
      "id": "viral-touch"
    },
    {
      "cell_type": "markdown",
      "metadata": {
        "id": "vulnerable-democrat"
      },
      "source": [
        "The following metrics will be used\n",
        "- accuracy\n",
        "- f1 score\n",
        "- recall\n",
        "- precision\n",
        "- confusion matrix"
      ],
      "id": "vulnerable-democrat"
    },
    {
      "cell_type": "code",
      "metadata": {
        "id": "ac043ea1"
      },
      "source": [
        "# import the metrics\n",
        "from sklearn.metrics import balanced_accuracy_score,f1_score,precision_score, recall_score\n",
        "from sklearn.metrics import plot_confusion_matrix"
      ],
      "id": "ac043ea1",
      "execution_count": 5,
      "outputs": []
    },
    {
      "cell_type": "code",
      "metadata": {
        "id": "f229e64a"
      },
      "source": [
        "#balanced accuracy\n",
        "balanced_accuracy=balanced_accuracy_score(y_test,y_pred)\n",
        "balanced_accuracy=round(balanced_accuracy,2)\n",
        "print('balanced accuracy:',balanced_accuracy)"
      ],
      "id": "f229e64a",
      "execution_count": null,
      "outputs": []
    },
    {
      "cell_type": "code",
      "metadata": {
        "id": "47c02d53"
      },
      "source": [
        "#f1score\n",
        "f1score=f1_score(y_test,y_pred,average='weighted')\n",
        "f1score=round(f1score,2)\n",
        "print('f1score:',f1score)"
      ],
      "id": "47c02d53",
      "execution_count": null,
      "outputs": []
    },
    {
      "cell_type": "code",
      "metadata": {
        "id": "curious-lambda"
      },
      "source": [
        "#precision \n",
        "precision=precision_score(y_test,y_pred,average='weighted')\n",
        "precision=round(precision,2)\n",
        "print('precision:',precision)"
      ],
      "id": "curious-lambda",
      "execution_count": null,
      "outputs": []
    },
    {
      "cell_type": "code",
      "metadata": {
        "id": "26114c90"
      },
      "source": [
        "#recall\n",
        "recall=recall_score(y_test,y_pred,average='weighted')\n",
        "recall=round(recall,2)\n",
        "print('recall:',recall)"
      ],
      "id": "26114c90",
      "execution_count": null,
      "outputs": []
    },
    {
      "cell_type": "code",
      "metadata": {
        "id": "abfb19b4"
      },
      "source": [
        "#confusion matrix\n",
        "disp=plot_confusion_matrix(clf,X_test_scaled,y_test,xticks_rotation='vertical',\n",
        "                     cmap='Blues',display_labels=classes)"
      ],
      "id": "abfb19b4",
      "execution_count": null,
      "outputs": []
    }
  ]
}